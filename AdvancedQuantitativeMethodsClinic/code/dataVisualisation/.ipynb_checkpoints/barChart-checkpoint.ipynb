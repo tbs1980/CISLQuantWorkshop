{
 "metadata": {
  "name": "",
  "signature": "sha256:15c225fe4546c17ae8ca5b8b82b04c61f1eeb5d1e510ea29d21eb637c065a0c9"
 },
 "nbformat": 3,
 "nbformat_minor": 0,
 "worksheets": [
  {
   "cells": [
    {
     "cell_type": "code",
     "collapsed": false,
     "input": [
      "import numpy as np  # (*) numpy for math functions and arrays"
     ],
     "language": "python",
     "metadata": {},
     "outputs": [],
     "prompt_number": 1
    },
    {
     "cell_type": "code",
     "collapsed": false,
     "input": [
      "# (*) csv file read/write\n",
      "import csv"
     ],
     "language": "python",
     "metadata": {},
     "outputs": [],
     "prompt_number": 2
    },
    {
     "cell_type": "code",
     "collapsed": false,
     "input": [
      "# Define a csv reader function\n",
      "def get_csv_data(filepath, row_id):\n",
      "    ''' \n",
      "    Read row of csv file, return a numpy array where\n",
      "    each entry corresp. to a particular month from January to December\n",
      "    pos. arg (1) filepath: relative path to csv file \n",
      "    pos. arg (2) row_id: id of row requested, found in first column (a string)\n",
      "    '''\n",
      "    with open(filepath, 'r') as data_file:\n",
      "        reader = csv.reader(data_file)        # define reader object\n",
      "        for row in reader:                    # loop through rows in csv file\n",
      "            if len(row) and row_id in row[0]: # test for empty lines and row id\n",
      "                # Trim 1st and last 2 entries (not corresp. to months) \n",
      "                # and return a numpy array\n",
      "                return np.array([float(x) for x in row[1:-2]])\n",
      "\n",
      "# (-) The 'with' statement automatically closes  \n",
      "#    'filepath' at the end of its block of code"
     ],
     "language": "python",
     "metadata": {},
     "outputs": [],
     "prompt_number": 3
    },
    {
     "cell_type": "code",
     "collapsed": false,
     "input": [
      "# Make a list of month names\n",
      "months = ['Jan', 'Feb', 'Mar', 'Apr', 'May', 'Jun',\n",
      "          'Jul', 'Aug', 'Sep', 'Oct', 'Nov', 'Dec']\n",
      "\n",
      "# Get a 1d-array of daily average temperatures, \n",
      "#  1 entry per month using get_csv_data()\n",
      "T_avg = get_csv_data('montreal.csv', 'Daily Average')\n",
      "\n",
      "# Similarly, get a 1d-array of daily temperature standard deviations\n",
      "T_std = get_csv_data('montreal.csv', 'Standard Deviation')"
     ],
     "language": "python",
     "metadata": {},
     "outputs": [
      {
       "ename": "IOError",
       "evalue": "[Errno 2] No such file or directory: 'montreal.csv'",
       "output_type": "pyerr",
       "traceback": [
        "\u001b[0;31m---------------------------------------------------------------------------\u001b[0m\n\u001b[0;31mIOError\u001b[0m                                   Traceback (most recent call last)",
        "\u001b[0;32m<ipython-input-4-51b5c8e96a4d>\u001b[0m in \u001b[0;36m<module>\u001b[0;34m()\u001b[0m\n\u001b[1;32m      5\u001b[0m \u001b[0;31m# Get a 1d-array of daily average temperatures,\u001b[0m\u001b[0;34m\u001b[0m\u001b[0;34m\u001b[0m\u001b[0m\n\u001b[1;32m      6\u001b[0m \u001b[0;31m#  1 entry per month using get_csv_data()\u001b[0m\u001b[0;34m\u001b[0m\u001b[0;34m\u001b[0m\u001b[0m\n\u001b[0;32m----> 7\u001b[0;31m \u001b[0mT_avg\u001b[0m \u001b[0;34m=\u001b[0m \u001b[0mget_csv_data\u001b[0m\u001b[0;34m(\u001b[0m\u001b[0;34m'montreal.csv'\u001b[0m\u001b[0;34m,\u001b[0m \u001b[0;34m'Daily Average'\u001b[0m\u001b[0;34m)\u001b[0m\u001b[0;34m\u001b[0m\u001b[0m\n\u001b[0m\u001b[1;32m      8\u001b[0m \u001b[0;34m\u001b[0m\u001b[0m\n\u001b[1;32m      9\u001b[0m \u001b[0;31m# Similarly, get a 1d-array of daily temperature standard deviations\u001b[0m\u001b[0;34m\u001b[0m\u001b[0;34m\u001b[0m\u001b[0m\n",
        "\u001b[0;32m<ipython-input-3-2372727ccf04>\u001b[0m in \u001b[0;36mget_csv_data\u001b[0;34m(filepath, row_id)\u001b[0m\n\u001b[1;32m      7\u001b[0m     \u001b[0mpos\u001b[0m\u001b[0;34m.\u001b[0m \u001b[0marg\u001b[0m \u001b[0;34m(\u001b[0m\u001b[0;36m2\u001b[0m\u001b[0;34m)\u001b[0m \u001b[0mrow_id\u001b[0m\u001b[0;34m:\u001b[0m \u001b[0mid\u001b[0m \u001b[0mof\u001b[0m \u001b[0mrow\u001b[0m \u001b[0mrequested\u001b[0m\u001b[0;34m,\u001b[0m \u001b[0mfound\u001b[0m \u001b[0;32min\u001b[0m \u001b[0mfirst\u001b[0m \u001b[0mcolumn\u001b[0m \u001b[0;34m(\u001b[0m\u001b[0ma\u001b[0m \u001b[0mstring\u001b[0m\u001b[0;34m)\u001b[0m\u001b[0;34m\u001b[0m\u001b[0m\n\u001b[1;32m      8\u001b[0m     '''\n\u001b[0;32m----> 9\u001b[0;31m     \u001b[0;32mwith\u001b[0m \u001b[0mopen\u001b[0m\u001b[0;34m(\u001b[0m\u001b[0mfilepath\u001b[0m\u001b[0;34m,\u001b[0m \u001b[0;34m'r'\u001b[0m\u001b[0;34m)\u001b[0m \u001b[0;32mas\u001b[0m \u001b[0mdata_file\u001b[0m\u001b[0;34m:\u001b[0m\u001b[0;34m\u001b[0m\u001b[0m\n\u001b[0m\u001b[1;32m     10\u001b[0m         \u001b[0mreader\u001b[0m \u001b[0;34m=\u001b[0m \u001b[0mcsv\u001b[0m\u001b[0;34m.\u001b[0m\u001b[0mreader\u001b[0m\u001b[0;34m(\u001b[0m\u001b[0mdata_file\u001b[0m\u001b[0;34m)\u001b[0m        \u001b[0;31m# define reader object\u001b[0m\u001b[0;34m\u001b[0m\u001b[0m\n\u001b[1;32m     11\u001b[0m         \u001b[0;32mfor\u001b[0m \u001b[0mrow\u001b[0m \u001b[0;32min\u001b[0m \u001b[0mreader\u001b[0m\u001b[0;34m:\u001b[0m                    \u001b[0;31m# loop through rows in csv file\u001b[0m\u001b[0;34m\u001b[0m\u001b[0m\n",
        "\u001b[0;31mIOError\u001b[0m: [Errno 2] No such file or directory: 'montreal.csv'"
       ]
      }
     ],
     "prompt_number": 4
    },
    {
     "cell_type": "code",
     "collapsed": false,
     "input": [],
     "language": "python",
     "metadata": {},
     "outputs": []
    }
   ],
   "metadata": {}
  }
 ]
}